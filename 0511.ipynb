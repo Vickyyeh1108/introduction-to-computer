{
  "nbformat": 4,
  "nbformat_minor": 0,
  "metadata": {
    "colab": {
      "name": "0511.ipynb",
      "provenance": [],
      "authorship_tag": "ABX9TyPjoKL5GyfsA9uIQCcuOM7P",
      "include_colab_link": true
    },
    "kernelspec": {
      "name": "python3",
      "display_name": "Python 3"
    },
    "language_info": {
      "name": "python"
    }
  },
  "cells": [
    {
      "cell_type": "markdown",
      "metadata": {
        "id": "view-in-github",
        "colab_type": "text"
      },
      "source": [
        "<a href=\"https://colab.research.google.com/github/Vickyyeh1108/introduction-to-computer/blob/main/0511.ipynb\" target=\"_parent\"><img src=\"https://colab.research.google.com/assets/colab-badge.svg\" alt=\"Open In Colab\"/></a>"
      ]
    },
    {
      "cell_type": "code",
      "execution_count": 1,
      "metadata": {
        "colab": {
          "base_uri": "https://localhost:8080/"
        },
        "id": "zcxsowdv5Rei",
        "outputId": "81618783-bacf-4ebf-e130-20e1d17a3268"
      },
      "outputs": [
        {
          "output_type": "stream",
          "name": "stdout",
          "text": [
            "test\n"
          ]
        }
      ],
      "source": [
        "print(\"test\")"
      ]
    },
    {
      "cell_type": "code",
      "source": [
        "temp=float(input(\"請輸入你的體溫:\"))\n",
        "if temp>=37.5:\n",
        "  print(\"體溫過高!\")\n",
        "elif temp>=37 and temp<37.4:\n",
        "  print(\"體溫略高!\")\n",
        "elif temp<=36.9 and temp>=34:\n",
        "  print(\"體溫正常!\")\n",
        "else:\n",
        "  print(\"體溫異常，請重新測量!\")\n",
        "  "
      ],
      "metadata": {
        "colab": {
          "base_uri": "https://localhost:8080/"
        },
        "id": "8tRLmGJy5c5A",
        "outputId": "ec700551-83fe-4b44-830c-9a1c86380028"
      },
      "execution_count": 3,
      "outputs": [
        {
          "output_type": "stream",
          "name": "stdout",
          "text": [
            "請輸入你的體溫:36.5\n",
            "體溫正常!\n"
          ]
        }
      ]
    },
    {
      "cell_type": "code",
      "source": [
        "money =int(input(\"請輸入購物金額:\"))\n",
        "if(money>=10000):\n",
        " if(money>=100000):\n",
        "  print(\"八折\",money*0.8,end=\"元\\n\")\n",
        " elif(money>=50000):\n",
        "  print(\"八五折\",money*0.85,end=\"元\\n\")\n",
        " elif(money>=30000):\n",
        "  print(\"九折\",money*0.9,end=\"元\\n\")\n",
        " else:\n",
        "  print(\"九五折\",money*0.95,end=\"元\\n\")\n",
        "else:\n",
        " print(\"沒打折\",money,end=\"元\\n\")"
      ],
      "metadata": {
        "colab": {
          "base_uri": "https://localhost:8080/"
        },
        "id": "4CTDAeTW73-N",
        "outputId": "74e03612-26ab-488b-d893-0533be7ce9ce"
      },
      "execution_count": 7,
      "outputs": [
        {
          "output_type": "stream",
          "name": "stdout",
          "text": [
            "請輸入購物金額:12000\n",
            "九五折 11400.0元\n"
          ]
        }
      ]
    },
    {
      "cell_type": "code",
      "source": [
        "score=int(input(\"請輸入成績\"))\n",
        "if(score>=60):\n",
        " if(score>=90):\n",
        "  print(\"A\")\n",
        " elif(score>=80):\n",
        "  print(\"B\")\n",
        " elif(score>=70):\n",
        "  print(\"C\")\n",
        " else:\n",
        "  print(\"D\")\n",
        "else:\n",
        " print(\"E\")"
      ],
      "metadata": {
        "colab": {
          "base_uri": "https://localhost:8080/"
        },
        "id": "FBiUnn7X8OJb",
        "outputId": "7da7e5bd-6261-4363-ebaf-a1d16b47121f"
      },
      "execution_count": 9,
      "outputs": [
        {
          "output_type": "stream",
          "name": "stdout",
          "text": [
            "請輸入成績52\n",
            "E\n"
          ]
        }
      ]
    },
    {
      "cell_type": "code",
      "source": [
        "month =int(input(\"請輸入月份:\"))\n",
        "if(month<=12):\n",
        " if(month<=5 and month>=3):\n",
        "  print(month,\"月是春天!\")\n",
        " elif(month<=8 and month>=3):\n",
        "  print(month,\"月是夏天!\")\n",
        " elif(month<=11 and month>=3):\n",
        "  print(month,\"月是秋天!\")\n",
        " else:\n",
        "  print(month,\"月是冬天!\")\n",
        "else:\n",
        " print(\"月份不在範圍內!\")"
      ],
      "metadata": {
        "colab": {
          "base_uri": "https://localhost:8080/"
        },
        "id": "gmHY6MTz9AdW",
        "outputId": "bc110c58-6334-425a-ce8a-f770de11ddfb"
      },
      "execution_count": 10,
      "outputs": [
        {
          "output_type": "stream",
          "name": "stdout",
          "text": [
            "請輸入月份:1\n",
            "1 月是冬天!\n"
          ]
        }
      ]
    },
    {
      "cell_type": "code",
      "source": [
        "m=int(input(\"請輸入今年收入淨額:\"))\n",
        "if(m>=300000):\n",
        " if(m>=2000000):\n",
        "  print(\"付稅金額:\",m*0.3,end=\"元\\n\")\n",
        " elif(m>=1000000):\n",
        "  print(\"付稅金額:\",m*0.21,end=\"元\\n\")\n",
        " elif(m>=600000):\n",
        "  print(\"付稅金額:\",m*0.13,end=\"元\\n\")\n",
        " else:\n",
        "  print(\"付稅金額:\",m*0.06,end=\"元\\n\")\n",
        "else:\n",
        " print(\"付稅金額:\",m*0,end=\"元\\n\")"
      ],
      "metadata": {
        "colab": {
          "base_uri": "https://localhost:8080/"
        },
        "id": "Zbr5D4rj9aZf",
        "outputId": "f22db923-38fe-44ca-80f2-464571e49845"
      },
      "execution_count": 13,
      "outputs": [
        {
          "output_type": "stream",
          "name": "stdout",
          "text": [
            "請輸入今年收入淨額:13\n",
            "付稅金額: 0元\n"
          ]
        }
      ]
    },
    {
      "cell_type": "code",
      "source": [
        ""
      ],
      "metadata": {
        "id": "eI-KNaww9p5q"
      },
      "execution_count": null,
      "outputs": []
    }
  ]
}