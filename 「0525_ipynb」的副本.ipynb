{
  "nbformat": 4,
  "nbformat_minor": 0,
  "metadata": {
    "colab": {
      "name": "「0525.ipynb」的副本",
      "provenance": [],
      "collapsed_sections": [],
      "authorship_tag": "ABX9TyNzPE3AunEyTZ3opMghYsU4",
      "include_colab_link": true
    },
    "kernelspec": {
      "name": "python3",
      "display_name": "Python 3"
    },
    "language_info": {
      "name": "python"
    }
  },
  "cells": [
    {
      "cell_type": "markdown",
      "metadata": {
        "id": "view-in-github",
        "colab_type": "text"
      },
      "source": [
        "<a href=\"https://colab.research.google.com/github/Vickyyeh1108/introduction-to-computer/blob/main/%E3%80%8C0525_ipynb%E3%80%8D%E7%9A%84%E5%89%AF%E6%9C%AC.ipynb\" target=\"_parent\"><img src=\"https://colab.research.google.com/assets/colab-badge.svg\" alt=\"Open In Colab\"/></a>"
      ]
    },
    {
      "cell_type": "code",
      "execution_count": null,
      "metadata": {
        "colab": {
          "base_uri": "https://localhost:8080/"
        },
        "id": "WtHK-Ba9UcRP",
        "outputId": "99917de7-9b5d-4f09-b907-ec71bbc71e9d"
      },
      "outputs": [
        {
          "output_type": "stream",
          "name": "stdout",
          "text": [
            "test\n"
          ]
        }
      ],
      "source": [
        "print(\"test\")"
      ]
    },
    {
      "cell_type": "code",
      "source": [
        "sum = 0\n",
        "test = int(input(\"請輸入一個正整數\"))\n",
        "for n in range(1,test+1):\n",
        "  sum = sum+n\n",
        "print(\"1到\",test,\"的整數和為\",sum)"
      ],
      "metadata": {
        "colab": {
          "base_uri": "https://localhost:8080/"
        },
        "id": "zwcIg9tgUj4R",
        "outputId": "72d3d97e-eca3-4ea5-ca33-07c617863ad6"
      },
      "execution_count": null,
      "outputs": [
        {
          "output_type": "stream",
          "name": "stdout",
          "text": [
            "請輸入一個正整數50\n",
            "1到 50 的整數和為 1275\n"
          ]
        }
      ]
    },
    {
      "cell_type": "code",
      "source": [
        "sum = 0\n",
        "test = int(input(\"請輸入一個正整數\"))\n",
        "for m in range(1,test+1):\n",
        "  sum = sum+m\n",
        "  print(\"1到\",test,\"的整數和為\",sum)"
      ],
      "metadata": {
        "colab": {
          "base_uri": "https://localhost:8080/"
        },
        "id": "IwUIZ5r9Vdib",
        "outputId": "b8663895-111d-4170-eeaf-1ba344f7141c"
      },
      "execution_count": null,
      "outputs": [
        {
          "output_type": "stream",
          "name": "stdout",
          "text": [
            "請輸入一個正整數50\n",
            "1到 50 的整數和為 1\n",
            "1到 50 的整數和為 3\n",
            "1到 50 的整數和為 6\n",
            "1到 50 的整數和為 10\n",
            "1到 50 的整數和為 15\n",
            "1到 50 的整數和為 21\n",
            "1到 50 的整數和為 28\n",
            "1到 50 的整數和為 36\n",
            "1到 50 的整數和為 45\n",
            "1到 50 的整數和為 55\n",
            "1到 50 的整數和為 66\n",
            "1到 50 的整數和為 78\n",
            "1到 50 的整數和為 91\n",
            "1到 50 的整數和為 105\n",
            "1到 50 的整數和為 120\n",
            "1到 50 的整數和為 136\n",
            "1到 50 的整數和為 153\n",
            "1到 50 的整數和為 171\n",
            "1到 50 的整數和為 190\n",
            "1到 50 的整數和為 210\n",
            "1到 50 的整數和為 231\n",
            "1到 50 的整數和為 253\n",
            "1到 50 的整數和為 276\n",
            "1到 50 的整數和為 300\n",
            "1到 50 的整數和為 325\n",
            "1到 50 的整數和為 351\n",
            "1到 50 的整數和為 378\n",
            "1到 50 的整數和為 406\n",
            "1到 50 的整數和為 435\n",
            "1到 50 的整數和為 465\n",
            "1到 50 的整數和為 496\n",
            "1到 50 的整數和為 528\n",
            "1到 50 的整數和為 561\n",
            "1到 50 的整數和為 595\n",
            "1到 50 的整數和為 630\n",
            "1到 50 的整數和為 666\n",
            "1到 50 的整數和為 703\n",
            "1到 50 的整數和為 741\n",
            "1到 50 的整數和為 780\n",
            "1到 50 的整數和為 820\n",
            "1到 50 的整數和為 861\n",
            "1到 50 的整數和為 903\n",
            "1到 50 的整數和為 946\n",
            "1到 50 的整數和為 990\n",
            "1到 50 的整數和為 1035\n",
            "1到 50 的整數和為 1081\n",
            "1到 50 的整數和為 1128\n",
            "1到 50 的整數和為 1176\n",
            "1到 50 的整數和為 1225\n",
            "1到 50 的整數和為 1275\n"
          ]
        }
      ]
    },
    {
      "cell_type": "code",
      "source": [
        "for j in range (1,5):\n",
        "  print(j)\n",
        "  for i in range(1,3):\n",
        "    k = i*j\n",
        "    print(j,\"*\",i,\"=\",k)"
      ],
      "metadata": {
        "colab": {
          "base_uri": "https://localhost:8080/"
        },
        "id": "tDH_CPx3V764",
        "outputId": "a9765e92-3429-4d2c-db4b-f6073fb20f31"
      },
      "execution_count": null,
      "outputs": [
        {
          "output_type": "stream",
          "name": "stdout",
          "text": [
            "1\n",
            "1 * 1 = 1\n",
            "1 * 2 = 2\n",
            "2\n",
            "2 * 1 = 2\n",
            "2 * 2 = 4\n",
            "3\n",
            "3 * 1 = 3\n",
            "3 * 2 = 6\n",
            "4\n",
            "4 * 1 = 4\n",
            "4 * 2 = 8\n"
          ]
        }
      ]
    },
    {
      "cell_type": "code",
      "source": [
        "for j in range (1,6):\n",
        "  print(j)\n",
        "  for i in range(1,3):\n",
        "    k = i*j\n",
        "    print(j,\"*\",i,\"=\",k)"
      ],
      "metadata": {
        "colab": {
          "base_uri": "https://localhost:8080/"
        },
        "id": "lrpBldz3WjeH",
        "outputId": "77efc123-b2cc-42ad-fe88-e636f44a32a1"
      },
      "execution_count": null,
      "outputs": [
        {
          "output_type": "stream",
          "name": "stdout",
          "text": [
            "1\n",
            "1 * 1 = 1\n",
            "1 * 2 = 2\n",
            "2\n",
            "2 * 1 = 2\n",
            "2 * 2 = 4\n",
            "3\n",
            "3 * 1 = 3\n",
            "3 * 2 = 6\n",
            "4\n",
            "4 * 1 = 4\n",
            "4 * 2 = 8\n",
            "5\n",
            "5 * 1 = 5\n",
            "5 * 2 = 10\n"
          ]
        }
      ]
    },
    {
      "cell_type": "code",
      "source": [
        "for i in range(1,5):\n",
        "  if(i==4):\n",
        "    break\n",
        "  print(i,end = \" \")"
      ],
      "metadata": {
        "colab": {
          "base_uri": "https://localhost:8080/"
        },
        "id": "-cbbfqubWxe7",
        "outputId": "17aea772-f922-4c60-a2ac-4ed54969b9af"
      },
      "execution_count": null,
      "outputs": [
        {
          "output_type": "stream",
          "name": "stdout",
          "text": [
            "1 2 3 "
          ]
        }
      ]
    },
    {
      "cell_type": "code",
      "source": [
        "count = 0\n",
        "for string in 'hello':\n",
        "  count+=1\n",
        "  if string == 'o':\n",
        "    break\n",
        "  print(string)\n",
        "print(\"迴圈結束\")\n",
        "print(\"迴圈執行了 %d次\" %count)"
      ],
      "metadata": {
        "colab": {
          "base_uri": "https://localhost:8080/"
        },
        "id": "N8NLXxEKXyHh",
        "outputId": "b390517e-2650-40a4-fc40-8b6e6417e8dc"
      },
      "execution_count": null,
      "outputs": [
        {
          "output_type": "stream",
          "name": "stdout",
          "text": [
            "h\n",
            "e\n",
            "l\n",
            "l\n",
            "迴圈結束\n",
            "迴圈執行了 5次\n"
          ]
        }
      ]
    },
    {
      "cell_type": "code",
      "source": [
        "count = 0\n",
        "for string in '測試看看':\n",
        "  count+=1\n",
        "  if string == '看':\n",
        "    break\n",
        "  print(string)\n",
        "print(\"迴圈結束\")\n",
        "print(\"迴圈執行了 %d次\" %count)"
      ],
      "metadata": {
        "colab": {
          "base_uri": "https://localhost:8080/"
        },
        "id": "wl1QR4i_YBr2",
        "outputId": "aee1ad37-443e-4026-bcbf-9c8dda30eae4"
      },
      "execution_count": null,
      "outputs": [
        {
          "output_type": "stream",
          "name": "stdout",
          "text": [
            "測\n",
            "試\n",
            "迴圈結束\n",
            "迴圈執行了 3次\n"
          ]
        }
      ]
    },
    {
      "cell_type": "code",
      "source": [
        "for j in range (2,10):\n",
        "  for i in range(1,10):\n",
        "    k = i*j\n",
        "    print(j,\"*\",i,\"=\",k,\"\\t\",end=\"\")\n",
        "  print()"
      ],
      "metadata": {
        "colab": {
          "base_uri": "https://localhost:8080/"
        },
        "id": "NbBo9wzZbG0M",
        "outputId": "6617f7c6-4a4f-4859-9090-2952f3bbb4fc"
      },
      "execution_count": null,
      "outputs": [
        {
          "output_type": "stream",
          "name": "stdout",
          "text": [
            "2 * 1 = 2 \t2 * 2 = 4 \t2 * 3 = 6 \t2 * 4 = 8 \t2 * 5 = 10 \t2 * 6 = 12 \t2 * 7 = 14 \t2 * 8 = 16 \t2 * 9 = 18 \t\n",
            "3 * 1 = 3 \t3 * 2 = 6 \t3 * 3 = 9 \t3 * 4 = 12 \t3 * 5 = 15 \t3 * 6 = 18 \t3 * 7 = 21 \t3 * 8 = 24 \t3 * 9 = 27 \t\n",
            "4 * 1 = 4 \t4 * 2 = 8 \t4 * 3 = 12 \t4 * 4 = 16 \t4 * 5 = 20 \t4 * 6 = 24 \t4 * 7 = 28 \t4 * 8 = 32 \t4 * 9 = 36 \t\n",
            "5 * 1 = 5 \t5 * 2 = 10 \t5 * 3 = 15 \t5 * 4 = 20 \t5 * 5 = 25 \t5 * 6 = 30 \t5 * 7 = 35 \t5 * 8 = 40 \t5 * 9 = 45 \t\n",
            "6 * 1 = 6 \t6 * 2 = 12 \t6 * 3 = 18 \t6 * 4 = 24 \t6 * 5 = 30 \t6 * 6 = 36 \t6 * 7 = 42 \t6 * 8 = 48 \t6 * 9 = 54 \t\n",
            "7 * 1 = 7 \t7 * 2 = 14 \t7 * 3 = 21 \t7 * 4 = 28 \t7 * 5 = 35 \t7 * 6 = 42 \t7 * 7 = 49 \t7 * 8 = 56 \t7 * 9 = 63 \t\n",
            "8 * 1 = 8 \t8 * 2 = 16 \t8 * 3 = 24 \t8 * 4 = 32 \t8 * 5 = 40 \t8 * 6 = 48 \t8 * 7 = 56 \t8 * 8 = 64 \t8 * 9 = 72 \t\n",
            "9 * 1 = 9 \t9 * 2 = 18 \t9 * 3 = 27 \t9 * 4 = 36 \t9 * 5 = 45 \t9 * 6 = 54 \t9 * 7 = 63 \t9 * 8 = 72 \t9 * 9 = 81 \t\n"
          ]
        }
      ]
    },
    {
      "cell_type": "code",
      "source": [
        "test1 = int(input(\"請輸入a的值:\"))\n",
        "test2 = int(input(\"請輸入b的值:\"))\n",
        "\n"
      ],
      "metadata": {
        "colab": {
          "base_uri": "https://localhost:8080/",
          "height": 132
        },
        "id": "LUMcNuFfe36R",
        "outputId": "6851ae93-1c77-42a7-c7dc-1d645975066b"
      },
      "execution_count": null,
      "outputs": [
        {
          "output_type": "error",
          "ename": "SyntaxError",
          "evalue": "ignored",
          "traceback": [
            "\u001b[0;36m  File \u001b[0;32m\"<ipython-input-48-a89123f3ea46>\"\u001b[0;36m, line \u001b[0;32m3\u001b[0m\n\u001b[0;31m    for i in (test1,test2):\u001b[0m\n\u001b[0m                           ^\u001b[0m\n\u001b[0;31mSyntaxError\u001b[0m\u001b[0;31m:\u001b[0m unexpected EOF while parsing\n"
          ]
        }
      ]
    },
    {
      "cell_type": "code",
      "source": [
        ""
      ],
      "metadata": {
        "id": "B7g4H8GLk7aU"
      },
      "execution_count": null,
      "outputs": []
    }
  ]
}