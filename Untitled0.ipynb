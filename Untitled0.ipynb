{
  "nbformat": 4,
  "nbformat_minor": 0,
  "metadata": {
    "colab": {
      "name": "Untitled0.ipynb",
      "provenance": [],
      "authorship_tag": "ABX9TyODqzpSFK5espHw5M30yGWo",
      "include_colab_link": true
    },
    "kernelspec": {
      "name": "python3",
      "display_name": "Python 3"
    },
    "language_info": {
      "name": "python"
    }
  },
  "cells": [
    {
      "cell_type": "markdown",
      "metadata": {
        "id": "view-in-github",
        "colab_type": "text"
      },
      "source": [
        "<a href=\"https://colab.research.google.com/github/Vickyyeh1108/introduction-to-computer/blob/main/Untitled0.ipynb\" target=\"_parent\"><img src=\"https://colab.research.google.com/assets/colab-badge.svg\" alt=\"Open In Colab\"/></a>"
      ]
    },
    {
      "cell_type": "code",
      "execution_count": 21,
      "metadata": {
        "colab": {
          "base_uri": "https://localhost:8080/"
        },
        "id": "c56_71dyWXWd",
        "outputId": "077c9446-e93c-456e-9875-54be82e198e9"
      },
      "outputs": [
        {
          "output_type": "stream",
          "name": "stdout",
          "text": [
            "金州勇士現有的球員陣容= ['Curry', 'Green', 'Durant', 'Looney', 'Thompson']\n",
            "勇士今天最高的三個得分 [30, 22, 28] 球員分別為 ['Curry', 'Durant', 'Thompson']\n",
            "勇士今天最高的兩個得分 [5, 6] 球員分別為 ['Green', 'Looney']\n",
            "勇士今天最高得分為 Curry 分數為 30 分\n",
            "勇士今天最低得分為 Green 分數為 5 分\n"
          ]
        }
      ],
      "source": [
        "Player=['Curry','Green','Durant','Looney','Thompson']\n",
        "Fraction = [30,5,22,6,28]\n",
        "print(\"金州勇士現有的球員陣容=\",Player)\n",
        "print(\"勇士今天最高的三個得分\",Fraction[0:5:2],\"球員分別為\",Player[0:5:2])\n",
        "print(\"勇士今天最高的兩個得分\",Fraction[1:4:2],\"球員分別為\",Player[1:4:2])\n",
        "print(\"勇士今天最高得分為\",Player[-5],\"分數為\",max(Fraction),\"分\")\n",
        "print(\"勇士今天最低得分為\",Player[-4],\"分數為\",min(Fraction),\"分\")"
      ]
    },
    {
      "cell_type": "code",
      "source": [
        ""
      ],
      "metadata": {
        "id": "JPl71ZSKlbRL"
      },
      "execution_count": null,
      "outputs": []
    }
  ]
}